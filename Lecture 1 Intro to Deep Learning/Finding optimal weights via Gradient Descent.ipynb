{
 "cells": [
  {
   "cell_type": "code",
   "execution_count": 1,
   "id": "19adbf52-c6f2-4a33-8bd2-7ac4fc531ffd",
   "metadata": {},
   "outputs": [],
   "source": [
    "import tensorflow as tf"
   ]
  },
  {
   "cell_type": "markdown",
   "id": "dd1ffa95-1f3e-4da1-81ee-be84a1f1febd",
   "metadata": {},
   "source": [
    "**Step 1: Randomly Initialize the weights:**"
   ]
  },
  {
   "cell_type": "code",
   "execution_count": 10,
   "id": "1e3d061d-45b6-4c6a-8e8e-1084ef1ad737",
   "metadata": {},
   "outputs": [],
   "source": [
    "weights = tf.Variable(tf.random.normal([1,2]))\n"
   ]
  },
  {
   "cell_type": "code",
   "execution_count": 11,
   "id": "4af59ef7-9075-40ff-acac-24a10ce7154a",
   "metadata": {},
   "outputs": [
    {
     "data": {
      "text/plain": [
       "<tf.Variable 'Variable:0' shape=(1, 2) dtype=float32, numpy=array([[ 0.57688415, -2.90694   ]], dtype=float32)>"
      ]
     },
     "execution_count": 11,
     "metadata": {},
     "output_type": "execute_result"
    }
   ],
   "source": [
    "weights"
   ]
  },
  {
   "cell_type": "markdown",
   "id": "e2fa61b6-6965-4b6e-b126-ffe385ad579c",
   "metadata": {},
   "source": [
    "**Step 2: Loop unitl convergence and do following things:**\n",
    "1. Find Gradient of loss with respect to weights.\n",
    "2. Update the weights."
   ]
  },
  {
   "cell_type": "raw",
   "id": "8ecff9ec-37a1-4504-b5a3-2d4926608984",
   "metadata": {},
   "source": [
    "while True:\n",
    "    with tf.GradientTape() as g:\n",
    "        #find loss\n",
    "        loss= compute_loss(weights)\n",
    "\n",
    "        #find gradients\n",
    "        gradient= g.gradient(loss, weights)\n",
    "\n",
    "    weights= weights - lr*gradient"
   ]
  },
  {
   "cell_type": "code",
   "execution_count": null,
   "id": "724c14fc-c74f-4667-9b9a-163ad4cfc9ad",
   "metadata": {},
   "outputs": [],
   "source": []
  }
 ],
 "metadata": {
  "kernelspec": {
   "display_name": "usman",
   "language": "python",
   "name": "usman"
  },
  "language_info": {
   "codemirror_mode": {
    "name": "ipython",
    "version": 3
   },
   "file_extension": ".py",
   "mimetype": "text/x-python",
   "name": "python",
   "nbconvert_exporter": "python",
   "pygments_lexer": "ipython3",
   "version": "3.10.14"
  }
 },
 "nbformat": 4,
 "nbformat_minor": 5
}
