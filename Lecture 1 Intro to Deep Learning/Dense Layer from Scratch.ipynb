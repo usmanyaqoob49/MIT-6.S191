{
 "cells": [
  {
   "cell_type": "code",
   "execution_count": 2,
   "id": "5bae1149-b1e2-4465-8cc7-ab8803429976",
   "metadata": {},
   "outputs": [],
   "source": [
    "import tensorflow as tf"
   ]
  },
  {
   "cell_type": "markdown",
   "id": "99a002c5-7643-467b-a905-83d563a2cac5",
   "metadata": {},
   "source": [
    "# Foundation of Dense Layers:"
   ]
  },
  {
   "cell_type": "markdown",
   "id": "e38a99c3-b3b1-4461-acdc-9cf04e7ed89a",
   "metadata": {},
   "source": [
    "1. (tf.keras.layers.Layer): This indicates that MyDenseLayer is inheriting from the Layer class within the tf.keras.layers module.\n",
    "\n",
    "2. def __init__(self, ...):: This is a special method called a constructor. It is automatically called when a new instance of the class is created. It initializes the object's attributes.\n",
    "\n",
    "3. super(MyDenseLayer, self).__init__():\n",
    "\n",
    "   By calling the constructor with super(), we are making sure that our new class (MyDenseLayer) can use the attributes and functions of the parent class (tf.keras.layers.Layer).\n",
    "\n",
    "   \n",
    "        I. super(MyDenseLayer, self): This calls the constructor of the parent class (tf.keras.layers.Layer). The super function is used to give access to methods and properties of a parent or sibling class.\n",
    "\n",
    "\n",
    "       II. __init__(): This calls the parent class's constructor to ensure that the parent class is properly initialized. In this context, it initializes the Layer part of the MyDenseLayer instance, making sure it behaves like a proper Keras layer.\n",
    "\n",
    "5. Weights for this layers, we will add weights using funtion of keras layer class (parent class), add_weight is the function of parent class.\n",
    "\n",
    "6. what will happen when we will give the inputs:\n",
    "\n",
    "        I. Neuron/Perceptron functionality code---> dot product of inputs and weights and add the bias\n",
    "\n",
    "        II. then apply non linear activation function"
   ]
  },
  {
   "cell_type": "code",
   "execution_count": 3,
   "id": "df96f08a-2867-4ae5-b090-20e82ad1df48",
   "metadata": {},
   "outputs": [],
   "source": [
    "class MyDenseLayer(tf.keras.layers.Layer):\n",
    "    def __init__(self, input_dim, output_dim):\n",
    "        super(MyDenseLayer, self).__init__()\n",
    "        #weights for this layers, we will add weights using funtion of keras layer class (parent class)\n",
    "            #add_weight is the function of parent class\n",
    "        self.W= self.add_weight([input_dim, output_dim])\n",
    "        self.b= self.add_weight([1, output_dim])\n",
    "\n",
    "    #what will happen when we will give the inputs\n",
    "    def call(self, input):\n",
    "        #Neuron/Perceptron functionality code---> dot product of inputs and weights and add the bias\n",
    "        z= tf.matmul(input, self.W) +  self.b\n",
    "        #then apply non linear activation function\n",
    "        output= tf.math.sigmoid(z)\n",
    "\n",
    "        return output\n",
    "\n",
    "    "
   ]
  },
  {
   "cell_type": "markdown",
   "id": "66e204de-8b42-47e0-a14e-e553906bbaa8",
   "metadata": {},
   "source": [
    "L"
   ]
  },
  {
   "cell_type": "code",
   "execution_count": 8,
   "id": "c6b95499-54f1-4f35-8f8f-45f27bf898c4",
   "metadata": {},
   "outputs": [],
   "source": [
    "dense_layer_with_2_neurons= MyDenseLayer(3, 2)\n"
   ]
  },
  {
   "cell_type": "markdown",
   "id": "deaf043b-f09d-4ef8-8c72-80eccc653746",
   "metadata": {},
   "source": [
    "# Implemention of Dense Layer in Tensorflow:"
   ]
  },
  {
   "cell_type": "code",
   "execution_count": 10,
   "id": "b37bbf51-a6a5-4cea-b9c7-65dbda0f6e57",
   "metadata": {},
   "outputs": [],
   "source": [
    "layer= tf.keras.layers.Dense(\n",
    "    #2 neurons\n",
    "    units= 2)"
   ]
  },
  {
   "cell_type": "code",
   "execution_count": null,
   "id": "9dc590a2-3557-4308-9a06-04dac9c9dc46",
   "metadata": {},
   "outputs": [],
   "source": []
  }
 ],
 "metadata": {
  "kernelspec": {
   "display_name": "usman",
   "language": "python",
   "name": "usman"
  },
  "language_info": {
   "codemirror_mode": {
    "name": "ipython",
    "version": 3
   },
   "file_extension": ".py",
   "mimetype": "text/x-python",
   "name": "python",
   "nbconvert_exporter": "python",
   "pygments_lexer": "ipython3",
   "version": "3.10.14"
  }
 },
 "nbformat": 4,
 "nbformat_minor": 5
}
