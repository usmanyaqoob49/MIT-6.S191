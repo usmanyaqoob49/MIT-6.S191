{
 "cells": [
  {
   "cell_type": "code",
   "execution_count": 1,
   "id": "83341014-3647-44a8-b2bf-aafeb1afe798",
   "metadata": {},
   "outputs": [],
   "source": [
    "import tensorflow as tf"
   ]
  },
  {
   "cell_type": "code",
   "execution_count": 8,
   "id": "865f4ea2-a67e-4a8e-bcca-8b8f952a3609",
   "metadata": {},
   "outputs": [],
   "source": [
    "class MYRNNcell(tf.keras.layers.Layer):\n",
    "    def __init__(self, rnn_units, input_dim, output_dim):\n",
    "        #(This indicates that MYRNNcell is inheriting from the Layer class within the tf.keras.layers module.\n",
    "        super(MYRNNcell, self).__init__()\n",
    "        #initializing the weight matrices\n",
    "        self.W_xh= self.add_weight([rnn_units, input_dim])\n",
    "        self.W_hh= self.add_weight([rnn_units, rnn_units])\n",
    "        self.W_hy= self.add_weight([output_dim, rnn_units])\n",
    "\n",
    "        print(self.W_xh, self.W_hy, self.W_hh)\n",
    "        #initializing the hidden state with zeros\n",
    "        self.h= tf.zeros([rnn_units, 1])\n",
    "\n",
    "    #Forward pass of one Recurrent Neuron\n",
    "    def call(self, x):\n",
    "        self.h= tf.math.tanh(self.W_hh * self.h + self.W_xh * x)\n",
    "\n",
    "        #computer output\n",
    "        output= self.W_hy * self.h\n",
    "        return output, self.h"
   ]
  },
  {
   "cell_type": "code",
   "execution_count": null,
   "id": "c8094b65-7381-455b-bfe8-daed0c03bb4a",
   "metadata": {},
   "outputs": [],
   "source": []
  }
 ],
 "metadata": {
  "kernelspec": {
   "display_name": "usman",
   "language": "python",
   "name": "usman"
  },
  "language_info": {
   "codemirror_mode": {
    "name": "ipython",
    "version": 3
   },
   "file_extension": ".py",
   "mimetype": "text/x-python",
   "name": "python",
   "nbconvert_exporter": "python",
   "pygments_lexer": "ipython3",
   "version": "3.10.14"
  }
 },
 "nbformat": 4,
 "nbformat_minor": 5
}
